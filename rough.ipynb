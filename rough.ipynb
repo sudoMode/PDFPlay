{
 "cells": [
  {
   "cell_type": "code",
   "execution_count": 19,
   "id": "cfbc9d5b",
   "metadata": {
    "ExecuteTime": {
     "end_time": "2021-10-13T17:13:39.022608Z",
     "start_time": "2021-10-13T17:13:39.019310Z"
    }
   },
   "outputs": [],
   "source": [
    "# !pip install openpyxl"
   ]
  },
  {
   "cell_type": "code",
   "execution_count": 1,
   "id": "d5d9983a",
   "metadata": {
    "ExecuteTime": {
     "end_time": "2021-10-13T17:08:59.801528Z",
     "start_time": "2021-10-13T17:08:59.539426Z"
    },
    "scrolled": true
   },
   "outputs": [],
   "source": [
    "import pandas as pd"
   ]
  },
  {
   "cell_type": "code",
   "execution_count": 12,
   "id": "a9cd2bd5",
   "metadata": {
    "ExecuteTime": {
     "end_time": "2021-10-13T17:12:20.876798Z",
     "start_time": "2021-10-13T17:12:20.873343Z"
    }
   },
   "outputs": [],
   "source": [
    "w = 'tests/.data/sample_target.csv'\n",
    "w2 = 'tests/.data/sample_target.xlsx'\n",
    "s = 'tests/.data/sample1.pdf'"
   ]
  },
  {
   "cell_type": "code",
   "execution_count": 3,
   "id": "79240add",
   "metadata": {
    "ExecuteTime": {
     "end_time": "2021-10-13T17:09:29.518543Z",
     "start_time": "2021-10-13T17:09:29.504123Z"
    }
   },
   "outputs": [],
   "source": [
    "data = pd.read_csv(w)"
   ]
  },
  {
   "cell_type": "code",
   "execution_count": 4,
   "id": "dd68a054",
   "metadata": {
    "ExecuteTime": {
     "end_time": "2021-10-13T17:09:30.974445Z",
     "start_time": "2021-10-13T17:09:30.945425Z"
    }
   },
   "outputs": [
    {
     "data": {
      "text/html": [
       "<div>\n",
       "<style scoped>\n",
       "    .dataframe tbody tr th:only-of-type {\n",
       "        vertical-align: middle;\n",
       "    }\n",
       "\n",
       "    .dataframe tbody tr th {\n",
       "        vertical-align: top;\n",
       "    }\n",
       "\n",
       "    .dataframe thead th {\n",
       "        text-align: right;\n",
       "    }\n",
       "</style>\n",
       "<table border=\"1\" class=\"dataframe\">\n",
       "  <thead>\n",
       "    <tr style=\"text-align: right;\">\n",
       "      <th></th>\n",
       "      <th>File Name</th>\n",
       "      <th>Watermark Text</th>\n",
       "      <th>Unnamed: 2</th>\n",
       "      <th>Unnamed: 3</th>\n",
       "      <th>Unnamed: 4</th>\n",
       "      <th>Unnamed: 5</th>\n",
       "      <th>Unnamed: 6</th>\n",
       "    </tr>\n",
       "  </thead>\n",
       "  <tbody>\n",
       "    <tr>\n",
       "      <th>0</th>\n",
       "      <td>Name 1</td>\n",
       "      <td>Watermark 1</td>\n",
       "      <td>NaN</td>\n",
       "      <td>NaN</td>\n",
       "      <td>NaN</td>\n",
       "      <td>NaN</td>\n",
       "      <td>NaN</td>\n",
       "    </tr>\n",
       "    <tr>\n",
       "      <th>1</th>\n",
       "      <td>Name 2</td>\n",
       "      <td>Watermark 2</td>\n",
       "      <td>NaN</td>\n",
       "      <td>NaN</td>\n",
       "      <td>NaN</td>\n",
       "      <td>NaN</td>\n",
       "      <td>NaN</td>\n",
       "    </tr>\n",
       "    <tr>\n",
       "      <th>2</th>\n",
       "      <td>Name 3</td>\n",
       "      <td>Watermark 3</td>\n",
       "      <td>NaN</td>\n",
       "      <td>NaN</td>\n",
       "      <td>NaN</td>\n",
       "      <td>NaN</td>\n",
       "      <td>NaN</td>\n",
       "    </tr>\n",
       "    <tr>\n",
       "      <th>3</th>\n",
       "      <td>Name 4</td>\n",
       "      <td>Watermark 41\\nWatermark 42\\nWatermark 43</td>\n",
       "      <td>NaN</td>\n",
       "      <td>NaN</td>\n",
       "      <td>NaN</td>\n",
       "      <td>NaN</td>\n",
       "      <td>NaN</td>\n",
       "    </tr>\n",
       "    <tr>\n",
       "      <th>4</th>\n",
       "      <td>Name 5</td>\n",
       "      <td>Watermark 51\\nWatermark 51\\nWatermark 53</td>\n",
       "      <td>NaN</td>\n",
       "      <td>NaN</td>\n",
       "      <td>NaN</td>\n",
       "      <td>NaN</td>\n",
       "      <td>NaN</td>\n",
       "    </tr>\n",
       "    <tr>\n",
       "      <th>5</th>\n",
       "      <td>Name 6</td>\n",
       "      <td>Watermark 6</td>\n",
       "      <td>NaN</td>\n",
       "      <td>NaN</td>\n",
       "      <td>NaN</td>\n",
       "      <td>NaN</td>\n",
       "      <td>NaN</td>\n",
       "    </tr>\n",
       "  </tbody>\n",
       "</table>\n",
       "</div>"
      ],
      "text/plain": [
       "  File Name                            Watermark Text  Unnamed: 2  Unnamed: 3  \\\n",
       "0    Name 1                               Watermark 1         NaN         NaN   \n",
       "1    Name 2                               Watermark 2         NaN         NaN   \n",
       "2    Name 3                               Watermark 3         NaN         NaN   \n",
       "3    Name 4  Watermark 41\\nWatermark 42\\nWatermark 43         NaN         NaN   \n",
       "4    Name 5  Watermark 51\\nWatermark 51\\nWatermark 53         NaN         NaN   \n",
       "5    Name 6                               Watermark 6         NaN         NaN   \n",
       "\n",
       "   Unnamed: 4  Unnamed: 5  Unnamed: 6  \n",
       "0         NaN         NaN         NaN  \n",
       "1         NaN         NaN         NaN  \n",
       "2         NaN         NaN         NaN  \n",
       "3         NaN         NaN         NaN  \n",
       "4         NaN         NaN         NaN  \n",
       "5         NaN         NaN         NaN  "
      ]
     },
     "execution_count": 4,
     "metadata": {},
     "output_type": "execute_result"
    }
   ],
   "source": [
    "data"
   ]
  },
  {
   "cell_type": "code",
   "execution_count": 10,
   "id": "e759d874",
   "metadata": {
    "ExecuteTime": {
     "end_time": "2021-10-13T17:11:30.362557Z",
     "start_time": "2021-10-13T17:11:30.354082Z"
    }
   },
   "outputs": [],
   "source": [
    "data.columns = list(map(lambda x: x.lower().replace(' ', '_'), data.columns))\n",
    "columns_to_remove = list(filter(lambda x: 'unnamed' in x, data.columns))\n",
    "data.drop(columns=columns_to_remove, axis=1, inplace=True)"
   ]
  },
  {
   "cell_type": "code",
   "execution_count": 11,
   "id": "e6f28bcb",
   "metadata": {
    "ExecuteTime": {
     "end_time": "2021-10-13T17:11:30.951038Z",
     "start_time": "2021-10-13T17:11:30.939461Z"
    }
   },
   "outputs": [
    {
     "data": {
      "text/html": [
       "<div>\n",
       "<style scoped>\n",
       "    .dataframe tbody tr th:only-of-type {\n",
       "        vertical-align: middle;\n",
       "    }\n",
       "\n",
       "    .dataframe tbody tr th {\n",
       "        vertical-align: top;\n",
       "    }\n",
       "\n",
       "    .dataframe thead th {\n",
       "        text-align: right;\n",
       "    }\n",
       "</style>\n",
       "<table border=\"1\" class=\"dataframe\">\n",
       "  <thead>\n",
       "    <tr style=\"text-align: right;\">\n",
       "      <th></th>\n",
       "      <th>file_name</th>\n",
       "      <th>watermark_text</th>\n",
       "    </tr>\n",
       "  </thead>\n",
       "  <tbody>\n",
       "    <tr>\n",
       "      <th>0</th>\n",
       "      <td>Name 1</td>\n",
       "      <td>Watermark 1</td>\n",
       "    </tr>\n",
       "    <tr>\n",
       "      <th>1</th>\n",
       "      <td>Name 2</td>\n",
       "      <td>Watermark 2</td>\n",
       "    </tr>\n",
       "    <tr>\n",
       "      <th>2</th>\n",
       "      <td>Name 3</td>\n",
       "      <td>Watermark 3</td>\n",
       "    </tr>\n",
       "    <tr>\n",
       "      <th>3</th>\n",
       "      <td>Name 4</td>\n",
       "      <td>Watermark 41\\nWatermark 42\\nWatermark 43</td>\n",
       "    </tr>\n",
       "    <tr>\n",
       "      <th>4</th>\n",
       "      <td>Name 5</td>\n",
       "      <td>Watermark 51\\nWatermark 51\\nWatermark 53</td>\n",
       "    </tr>\n",
       "    <tr>\n",
       "      <th>5</th>\n",
       "      <td>Name 6</td>\n",
       "      <td>Watermark 6</td>\n",
       "    </tr>\n",
       "  </tbody>\n",
       "</table>\n",
       "</div>"
      ],
      "text/plain": [
       "  file_name                            watermark_text\n",
       "0    Name 1                               Watermark 1\n",
       "1    Name 2                               Watermark 2\n",
       "2    Name 3                               Watermark 3\n",
       "3    Name 4  Watermark 41\\nWatermark 42\\nWatermark 43\n",
       "4    Name 5  Watermark 51\\nWatermark 51\\nWatermark 53\n",
       "5    Name 6                               Watermark 6"
      ]
     },
     "execution_count": 11,
     "metadata": {},
     "output_type": "execute_result"
    }
   ],
   "source": [
    "data"
   ]
  },
  {
   "cell_type": "code",
   "execution_count": 21,
   "id": "38cc0261",
   "metadata": {
    "ExecuteTime": {
     "end_time": "2021-10-13T17:13:59.331661Z",
     "start_time": "2021-10-13T17:13:59.309050Z"
    }
   },
   "outputs": [
    {
     "data": {
      "text/html": [
       "<div>\n",
       "<style scoped>\n",
       "    .dataframe tbody tr th:only-of-type {\n",
       "        vertical-align: middle;\n",
       "    }\n",
       "\n",
       "    .dataframe tbody tr th {\n",
       "        vertical-align: top;\n",
       "    }\n",
       "\n",
       "    .dataframe thead th {\n",
       "        text-align: right;\n",
       "    }\n",
       "</style>\n",
       "<table border=\"1\" class=\"dataframe\">\n",
       "  <thead>\n",
       "    <tr style=\"text-align: right;\">\n",
       "      <th></th>\n",
       "      <th>File Name</th>\n",
       "      <th>Watermark Text</th>\n",
       "      <th>Unnamed: 2</th>\n",
       "      <th>Unnamed: 3</th>\n",
       "      <th>Unnamed: 4</th>\n",
       "      <th>Unnamed: 5</th>\n",
       "      <th>Unnamed: 6</th>\n",
       "    </tr>\n",
       "  </thead>\n",
       "  <tbody>\n",
       "    <tr>\n",
       "      <th>0</th>\n",
       "      <td>Name 1</td>\n",
       "      <td>Watermark 1</td>\n",
       "      <td>NaN</td>\n",
       "      <td>NaN</td>\n",
       "      <td>NaN</td>\n",
       "      <td>NaN</td>\n",
       "      <td>NaN</td>\n",
       "    </tr>\n",
       "    <tr>\n",
       "      <th>1</th>\n",
       "      <td>Name 2</td>\n",
       "      <td>Watermark 2</td>\n",
       "      <td>NaN</td>\n",
       "      <td>NaN</td>\n",
       "      <td>NaN</td>\n",
       "      <td>NaN</td>\n",
       "      <td>NaN</td>\n",
       "    </tr>\n",
       "    <tr>\n",
       "      <th>2</th>\n",
       "      <td>Name 3</td>\n",
       "      <td>Watermark 3</td>\n",
       "      <td>NaN</td>\n",
       "      <td>NaN</td>\n",
       "      <td>NaN</td>\n",
       "      <td>NaN</td>\n",
       "      <td>NaN</td>\n",
       "    </tr>\n",
       "    <tr>\n",
       "      <th>3</th>\n",
       "      <td>Name 4</td>\n",
       "      <td>Watermark 41\\nWatermark 42\\nWatermark 43</td>\n",
       "      <td>NaN</td>\n",
       "      <td>NaN</td>\n",
       "      <td>NaN</td>\n",
       "      <td>NaN</td>\n",
       "      <td>NaN</td>\n",
       "    </tr>\n",
       "    <tr>\n",
       "      <th>4</th>\n",
       "      <td>Name 5</td>\n",
       "      <td>Watermark 51\\nWatermark 51\\nWatermark 53</td>\n",
       "      <td>NaN</td>\n",
       "      <td>NaN</td>\n",
       "      <td>NaN</td>\n",
       "      <td>NaN</td>\n",
       "      <td>NaN</td>\n",
       "    </tr>\n",
       "    <tr>\n",
       "      <th>5</th>\n",
       "      <td>Name 6</td>\n",
       "      <td>Watermark 6</td>\n",
       "      <td>NaN</td>\n",
       "      <td>NaN</td>\n",
       "      <td>NaN</td>\n",
       "      <td>NaN</td>\n",
       "      <td>NaN</td>\n",
       "    </tr>\n",
       "  </tbody>\n",
       "</table>\n",
       "</div>"
      ],
      "text/plain": [
       "  File Name                            Watermark Text  Unnamed: 2  Unnamed: 3  \\\n",
       "0    Name 1                               Watermark 1         NaN         NaN   \n",
       "1    Name 2                               Watermark 2         NaN         NaN   \n",
       "2    Name 3                               Watermark 3         NaN         NaN   \n",
       "3    Name 4  Watermark 41\\nWatermark 42\\nWatermark 43         NaN         NaN   \n",
       "4    Name 5  Watermark 51\\nWatermark 51\\nWatermark 53         NaN         NaN   \n",
       "5    Name 6                               Watermark 6         NaN         NaN   \n",
       "\n",
       "   Unnamed: 4  Unnamed: 5  Unnamed: 6  \n",
       "0         NaN         NaN         NaN  \n",
       "1         NaN         NaN         NaN  \n",
       "2         NaN         NaN         NaN  \n",
       "3         NaN         NaN         NaN  \n",
       "4         NaN         NaN         NaN  \n",
       "5         NaN         NaN         NaN  "
      ]
     },
     "execution_count": 21,
     "metadata": {},
     "output_type": "execute_result"
    }
   ],
   "source": [
    "d2 = pd.read_excel(w2, header=1)\n",
    "d2"
   ]
  },
  {
   "cell_type": "code",
   "execution_count": 22,
   "id": "c3a0a39f",
   "metadata": {
    "ExecuteTime": {
     "end_time": "2021-10-13T17:22:38.843234Z",
     "start_time": "2021-10-13T17:22:38.837987Z"
    }
   },
   "outputs": [
    {
     "data": {
      "text/html": [
       "<div>\n",
       "<style scoped>\n",
       "    .dataframe tbody tr th:only-of-type {\n",
       "        vertical-align: middle;\n",
       "    }\n",
       "\n",
       "    .dataframe tbody tr th {\n",
       "        vertical-align: top;\n",
       "    }\n",
       "\n",
       "    .dataframe thead th {\n",
       "        text-align: right;\n",
       "    }\n",
       "</style>\n",
       "<table border=\"1\" class=\"dataframe\">\n",
       "  <thead>\n",
       "    <tr style=\"text-align: right;\">\n",
       "      <th></th>\n",
       "      <th>file_name</th>\n",
       "      <th>watermark_text</th>\n",
       "    </tr>\n",
       "  </thead>\n",
       "  <tbody>\n",
       "    <tr>\n",
       "      <th>0</th>\n",
       "      <td>Name 1</td>\n",
       "      <td>Watermark 1</td>\n",
       "    </tr>\n",
       "    <tr>\n",
       "      <th>1</th>\n",
       "      <td>Name 2</td>\n",
       "      <td>Watermark 2</td>\n",
       "    </tr>\n",
       "    <tr>\n",
       "      <th>2</th>\n",
       "      <td>Name 3</td>\n",
       "      <td>Watermark 3</td>\n",
       "    </tr>\n",
       "    <tr>\n",
       "      <th>3</th>\n",
       "      <td>Name 4</td>\n",
       "      <td>Watermark 41\\nWatermark 42\\nWatermark 43</td>\n",
       "    </tr>\n",
       "    <tr>\n",
       "      <th>4</th>\n",
       "      <td>Name 5</td>\n",
       "      <td>Watermark 51\\nWatermark 51\\nWatermark 53</td>\n",
       "    </tr>\n",
       "    <tr>\n",
       "      <th>5</th>\n",
       "      <td>Name 6</td>\n",
       "      <td>Watermark 6</td>\n",
       "    </tr>\n",
       "  </tbody>\n",
       "</table>\n",
       "</div>"
      ],
      "text/plain": [
       "  file_name                            watermark_text\n",
       "0    Name 1                               Watermark 1\n",
       "1    Name 2                               Watermark 2\n",
       "2    Name 3                               Watermark 3\n",
       "3    Name 4  Watermark 41\\nWatermark 42\\nWatermark 43\n",
       "4    Name 5  Watermark 51\\nWatermark 51\\nWatermark 53\n",
       "5    Name 6                               Watermark 6"
      ]
     },
     "execution_count": 22,
     "metadata": {},
     "output_type": "execute_result"
    }
   ],
   "source": [
    "data"
   ]
  },
  {
   "cell_type": "code",
   "execution_count": 34,
   "id": "6fa9a1c4",
   "metadata": {
    "ExecuteTime": {
     "end_time": "2021-10-13T17:24:47.369801Z",
     "start_time": "2021-10-13T17:24:47.361381Z"
    }
   },
   "outputs": [
    {
     "data": {
      "text/plain": [
       "[['Name 1', 'Watermark 1'],\n",
       " ['Name 2', 'Watermark 2'],\n",
       " ['Name 3', 'Watermark 3'],\n",
       " ['Name 4', 'Watermark 41\\nWatermark 42\\nWatermark 43'],\n",
       " ['Name 5', 'Watermark 51\\nWatermark 51\\nWatermark 53'],\n",
       " ['Name 6', 'Watermark 6']]"
      ]
     },
     "execution_count": 34,
     "metadata": {},
     "output_type": "execute_result"
    }
   ],
   "source": [
    "data.iloc[:, :2].values.tolist()"
   ]
  },
  {
   "cell_type": "code",
   "execution_count": null,
   "id": "20fa8d10",
   "metadata": {},
   "outputs": [],
   "source": []
  }
 ],
 "metadata": {
  "kernelspec": {
   "display_name": "Python 3",
   "language": "python",
   "name": "python3"
  },
  "language_info": {
   "codemirror_mode": {
    "name": "ipython",
    "version": 3
   },
   "file_extension": ".py",
   "mimetype": "text/x-python",
   "name": "python",
   "nbconvert_exporter": "python",
   "pygments_lexer": "ipython3",
   "version": "3.9.1"
  },
  "varInspector": {
   "cols": {
    "lenName": 16,
    "lenType": 16,
    "lenVar": 40
   },
   "kernels_config": {
    "python": {
     "delete_cmd_postfix": "",
     "delete_cmd_prefix": "del ",
     "library": "var_list.py",
     "varRefreshCmd": "print(var_dic_list())"
    },
    "r": {
     "delete_cmd_postfix": ") ",
     "delete_cmd_prefix": "rm(",
     "library": "var_list.r",
     "varRefreshCmd": "cat(var_dic_list()) "
    }
   },
   "types_to_exclude": [
    "module",
    "function",
    "builtin_function_or_method",
    "instance",
    "_Feature"
   ],
   "window_display": false
  }
 },
 "nbformat": 4,
 "nbformat_minor": 5
}
